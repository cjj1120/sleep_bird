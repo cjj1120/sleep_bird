{
 "cells": [
  {
   "cell_type": "markdown",
   "id": "c89cf636",
   "metadata": {},
   "source": [
    "# Automate sleep data retrieval and build a pipeline! \n",
    "Download sleep data from fitbit -> Parse csv & Insert data to Postgres -> Send alert to slack and Visualize! "
   ]
  },
  {
   "cell_type": "markdown",
   "id": "ea6c8f96",
   "metadata": {},
   "source": [
    "## my first customized xpath!\n",
    "* protips, opend up Chrom Console, and search for the path to verify! \n",
    "* General rule of thumb: try to avoid absolute path, especially when the pages has many elements, things can change frequently! \n",
    "* Quick [tutorial](https://www.guru99.com/xpath-selenium.html)\n",
    "\n",
    "Btw, div uses contain(text(), 'SPECIFIED_TEXT')  \n",
    "Whereas button uses and text() = 'SPECIFIED_TEXT"
   ]
  },
  {
   "cell_type": "code",
   "execution_count": 9,
   "id": "ac62d815",
   "metadata": {},
   "outputs": [
    {
     "data": {
      "text/plain": [
       "'cjj8168@gmail.com'"
      ]
     },
     "execution_count": 9,
     "metadata": {},
     "output_type": "execute_result"
    }
   ],
   "source": [
    "import os \n",
    "from dotenv import load_dotenv\n",
    "\n",
    "load_dotenv()\n",
    "os.getenv('sleep_email')"
   ]
  },
  {
   "cell_type": "code",
   "execution_count": 1,
   "id": "e52acc7f",
   "metadata": {},
   "outputs": [
    {
     "name": "stderr",
     "output_type": "stream",
     "text": [
      "[WDM] - Downloading: 100%|████████████████████████████████████████████████████████████████████████████████████████████████| 7.72M/7.72M [00:02<00:00, 3.40MB/s]\n",
      "/var/folders/4s/qf_5w4sd3_bc6pyrz5jp4hsc0000gn/T/ipykernel_77406/2540995970.py:17: DeprecationWarning: executable_path has been deprecated, please pass in a Service object\n",
      "  driver = webdriver.Chrome(ChromeDriverManager().install())\n"
     ]
    }
   ],
   "source": [
    "login_page = \"https://accounts.fitbit.com/login?targetUrl=https%3A%2F%2Fwww.fitbit.com%2Flogin%2Ftransferpage%3Fredirect%3Dhttps%25253A%25252F%25252Fwww.fitbit.com%25252Fsettings%25252Fdata%25252Fexport&lcl=en_MY\"\n",
    "email = os.getenv('sleep_email')\n",
    "password = os.getenv('sleep_password')\n",
    "\n",
    "# Use Selenium \n",
    "from datetime import datetime \n",
    "import time\n",
    "from selenium import webdriver\n",
    "from selenium.webdriver.support.wait import WebDriverWait\n",
    "from selenium.webdriver.support import expected_conditions as EC\n",
    "from selenium.webdriver.common.by import By\n",
    "\n",
    "import chromedriver_binary \n",
    "from webdriver_manager.chrome import ChromeDriverManager\n",
    "\n",
    "\n",
    "driver = webdriver.Chrome(ChromeDriverManager().install())\n",
    "driver.get(login_page)\n",
    "\n",
    "element = WebDriverWait(driver, 10).until(\n",
    "        EC.presence_of_element_located((By.XPATH, '/html/body/div[2]/div/main/div/div/div/div[3]/form/div[1]/div/input'))\n",
    "    )\n",
    "\n",
    "# gotta do this the selenium way, for example!\n",
    "# wait.until(EC.element_to_be_clickable((By.XPATH, \"//button[text()='Sign in']\"))).click()\n",
    "\n",
    "\n",
    "driver.find_element(\"xpath\", '/html/body/div[2]/div/main/div/div/div/div[3]/form/div[1]/div/input').send_keys(email);\n",
    "driver.find_element(\"xpath\", '/html/body/div[2]/div/main/div/div/div/div[3]/form/div[2]/div/input').send_keys(password);\n",
    "driver.find_element(\"xpath\", '/html/body/div[2]/div/main/div/div/div/div[3]/form/div[5]/button').click();\n",
    "\n",
    "\n",
    "\n",
    "# click on custom button \n",
    "custom_button = \"//input[@id='ember64' and @value='CUSTOM']\"\n",
    "element = WebDriverWait(driver, 10).until(            \n",
    "        EC.presence_of_element_located((By.XPATH, custom_button)))\n",
    "driver.find_element(By.XPATH, custom_button).click()\n",
    "\n",
    "\n",
    "start_date_xpath = \"//input[@id='ember92' and @data-test-qa='data-export-start-date'] \"\n",
    "driver.find_element(By.XPATH, start_date_xpath).click()\n",
    "\n",
    "\n",
    "\n",
    "date_today_xpath = f\"//div[@class='dayContainer']//*[contains(text(), {datetime.now().day})]\"\n",
    "driver.find_element(By.XPATH, date_today_xpath).click()\n",
    "\n",
    "time.sleep(5)\n",
    "download_button = \"//button[@class='button important download-button' and text() = 'Download']\"\n",
    "driver.find_element(By.XPATH, download_button).click()\n",
    "time.sleep(10)\n",
    "driver.close()\n",
    "\n"
   ]
  },
  {
   "cell_type": "markdown",
   "id": "63623143",
   "metadata": {},
   "source": [
    "# Parsing CSV data\n",
    "Initial plan was to do the following: \n",
    "```\n",
    "f'fitbit_export_{datetime.now().date()}'\n",
    "datetime.now().date().strftime('%Y')\n",
    "```\n",
    "As I assumed that the csv file name that contains the date will be the date for the data being downloaded (for example if I download for data 2019-12-11 the csv should contain that date), but it is in fact today's date.   \n",
    "Becuase of this I cannot test on 2022-06-01 (whether month and day will actually contain 0), thus I will just check for prefix and remove the csv file afterwards. \n",
    "\n",
    "** Today's date is 11.12.2022"
   ]
  },
  {
   "cell_type": "code",
   "execution_count": 2,
   "id": "4fa3d9f9",
   "metadata": {},
   "outputs": [],
   "source": [
    "import os\n",
    "\n",
    "download_path = '/Users/jiong/Downloads'\n",
    "files = os.listdir(download_path)\n",
    "\n",
    "data_file = [x for x in files if x.startswith('fitbit')]\n",
    "\n",
    "# if more than 1 fitbit csv file in download path, we identify the latest file \n",
    "if len(data_file) > 1: \n",
    "    temp_dict = {}\n",
    "    for x in data_file: \n",
    "        temp_dict[x] = datetime.strptime(x.split('_')[2].split('.csv')[0], '%Y%m%d')\n",
    "    "
   ]
  },
  {
   "cell_type": "code",
   "execution_count": 3,
   "id": "aac0288b",
   "metadata": {},
   "outputs": [
    {
     "data": {
      "text/plain": [
       "datetime.datetime(2022, 11, 10, 0, 0)"
      ]
     },
     "execution_count": 3,
     "metadata": {},
     "output_type": "execute_result"
    }
   ],
   "source": [
    "temp_dict[next(iter(temp_dict))]"
   ]
  },
  {
   "cell_type": "code",
   "execution_count": 4,
   "id": "664eb0f4",
   "metadata": {},
   "outputs": [
    {
     "data": {
      "text/plain": [
       "{'fitbit_export_20221110.csv': datetime.datetime(2022, 11, 10, 0, 0),\n",
       " 'fitbit_export_20221111.csv': datetime.datetime(2022, 11, 11, 0, 0),\n",
       " 'fitbit_export_20221113.csv': datetime.datetime(2022, 11, 13, 0, 0)}"
      ]
     },
     "execution_count": 4,
     "metadata": {},
     "output_type": "execute_result"
    }
   ],
   "source": [
    "temp_dict"
   ]
  },
  {
   "cell_type": "code",
   "execution_count": 5,
   "id": "ce14c9b2",
   "metadata": {},
   "outputs": [],
   "source": [
    "# to get the latest file, and check for latset date \n",
    "\n",
    "## intit var with first element's value. \n",
    "temp_date = temp_dict[next(iter(temp_dict))]\n",
    "final_file = []\n",
    "for file, date in temp_dict.items():    \n",
    "    if date > temp_date: \n",
    "        temp_date = date\n",
    "        final_file = file\n",
    "        "
   ]
  },
  {
   "cell_type": "code",
   "execution_count": 11,
   "id": "4e4afe0d",
   "metadata": {},
   "outputs": [
    {
     "data": {
      "text/html": [
       "<div>\n",
       "<style scoped>\n",
       "    .dataframe tbody tr th:only-of-type {\n",
       "        vertical-align: middle;\n",
       "    }\n",
       "\n",
       "    .dataframe tbody tr th {\n",
       "        vertical-align: top;\n",
       "    }\n",
       "\n",
       "    .dataframe thead th {\n",
       "        text-align: right;\n",
       "    }\n",
       "</style>\n",
       "<table border=\"1\" class=\"dataframe\">\n",
       "  <thead>\n",
       "    <tr style=\"text-align: right;\">\n",
       "      <th></th>\n",
       "      <th>Start Time</th>\n",
       "      <th>End Time</th>\n",
       "      <th>Minutes Asleep</th>\n",
       "      <th>Minutes Awake</th>\n",
       "      <th>Number of Awakenings</th>\n",
       "      <th>Time in Bed</th>\n",
       "      <th>Minutes REM Sleep</th>\n",
       "      <th>Minutes Light Sleep</th>\n",
       "      <th>Minutes Deep Sleep</th>\n",
       "    </tr>\n",
       "  </thead>\n",
       "  <tbody>\n",
       "    <tr>\n",
       "      <th>0</th>\n",
       "      <td>13-11-2022 1:12AM</td>\n",
       "      <td>13-11-2022 8:17AM</td>\n",
       "      <td>361</td>\n",
       "      <td>64</td>\n",
       "      <td>34</td>\n",
       "      <td>425</td>\n",
       "      <td>65</td>\n",
       "      <td>244</td>\n",
       "      <td>52</td>\n",
       "    </tr>\n",
       "  </tbody>\n",
       "</table>\n",
       "</div>"
      ],
      "text/plain": [
       "          Start Time           End Time  Minutes Asleep  Minutes Awake  \\\n",
       "0  13-11-2022 1:12AM  13-11-2022 8:17AM             361             64   \n",
       "\n",
       "   Number of Awakenings  Time in Bed  Minutes REM Sleep  Minutes Light Sleep  \\\n",
       "0                    34          425                 65                  244   \n",
       "\n",
       "   Minutes Deep Sleep  \n",
       "0                  52  "
      ]
     },
     "execution_count": 11,
     "metadata": {},
     "output_type": "execute_result"
    }
   ],
   "source": [
    "# load csv \n",
    "import pandas as pd \n",
    "full_path = download_path+\"/\"+final_file\n",
    "sleep_data = pd.read_csv(full_path, skiprows = 13, nrows=1)\n",
    "sleep_data"
   ]
  },
  {
   "cell_type": "code",
   "execution_count": 15,
   "id": "f5bfa38a",
   "metadata": {},
   "outputs": [
    {
     "data": {
      "text/plain": [
       "0    13-11-2022 1:12AM\n",
       "Name: Start Time, dtype: object"
      ]
     },
     "execution_count": 15,
     "metadata": {},
     "output_type": "execute_result"
    }
   ],
   "source": [
    "sleep_data['Start Time']"
   ]
  },
  {
   "cell_type": "code",
   "execution_count": 76,
   "id": "b101337e",
   "metadata": {},
   "outputs": [
    {
     "data": {
      "text/plain": [
       "'/Users/jiong/Downloads/done/fitbit_export_20221112.csv'"
      ]
     },
     "execution_count": 76,
     "metadata": {},
     "output_type": "execute_result"
    }
   ],
   "source": [
    "# move processed file to a new dir.. \n",
    "\n",
    "import shutil \n",
    "move_to_done_path = f\"{download_path}/done/{final_file}\"\n",
    "shutil.move(full_path, move_to_done_path)"
   ]
  },
  {
   "cell_type": "code",
   "execution_count": null,
   "id": "1d50a288",
   "metadata": {},
   "outputs": [],
   "source": []
  }
 ],
 "metadata": {
  "kernelspec": {
   "display_name": "Python 3.8.13 ('py38-fni')",
   "language": "python",
   "name": "python3"
  },
  "language_info": {
   "codemirror_mode": {
    "name": "ipython",
    "version": 3
   },
   "file_extension": ".py",
   "mimetype": "text/x-python",
   "name": "python",
   "nbconvert_exporter": "python",
   "pygments_lexer": "ipython3",
   "version": "3.8.13"
  },
  "vscode": {
   "interpreter": {
    "hash": "39f470f7d239cd57690727d435562bd6ab9212fe746384763b51ac2a549f93e3"
   }
  }
 },
 "nbformat": 4,
 "nbformat_minor": 5
}
